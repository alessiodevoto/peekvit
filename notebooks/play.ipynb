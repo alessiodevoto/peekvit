{
 "cells": [
  {
   "cell_type": "code",
   "execution_count": 1,
   "metadata": {},
   "outputs": [
    {
     "name": "stderr",
     "output_type": "stream",
     "text": [
      "/usr/local/lib/python3.11/site-packages/tqdm/auto.py:21: TqdmWarning: IProgress not found. Please update jupyter and ipywidgets. See https://ipywidgets.readthedocs.io/en/stable/user_install.html\n",
      "  from .autonotebook import tqdm as notebook_tqdm\n"
     ]
    },
    {
     "ename": "ModuleNotFoundError",
     "evalue": "No module named 'utils'",
     "output_type": "error",
     "traceback": [
      "\u001b[0;31m---------------------------------------------------------------------------\u001b[0m",
      "\u001b[0;31mModuleNotFoundError\u001b[0m                       Traceback (most recent call last)",
      "Cell \u001b[0;32mIn[1], line 9\u001b[0m\n\u001b[1;32m      6\u001b[0m \u001b[38;5;28;01mfrom\u001b[39;00m \u001b[38;5;21;01mtorchvision\u001b[39;00m\u001b[38;5;21;01m.\u001b[39;00m\u001b[38;5;21;01mdatasets\u001b[39;00m \u001b[38;5;28;01mimport\u001b[39;00m ImageNet  \u001b[38;5;66;03m# Use ImageNet dataset\u001b[39;00m\n\u001b[1;32m      7\u001b[0m \u001b[38;5;28;01mimport\u001b[39;00m \u001b[38;5;21;01mtorch\u001b[39;00m\u001b[38;5;21;01m.\u001b[39;00m\u001b[38;5;21;01mnn\u001b[39;00m \u001b[38;5;28;01mas\u001b[39;00m \u001b[38;5;21;01mnn\u001b[39;00m\n\u001b[0;32m----> 9\u001b[0m \u001b[38;5;28;01mfrom\u001b[39;00m \u001b[38;5;21;01mutils\u001b[39;00m \u001b[38;5;28;01mimport\u001b[39;00m \u001b[38;5;241m*\u001b[39m\n\u001b[1;32m     10\u001b[0m \u001b[38;5;28;01mfrom\u001b[39;00m \u001b[38;5;21;01mutils\u001b[39;00m \u001b[38;5;28;01mimport\u001b[39;00m _ntuple\n\u001b[1;32m     11\u001b[0m \u001b[38;5;28;01mimport\u001b[39;00m \u001b[38;5;21;01mtime\u001b[39;00m\n",
      "\u001b[0;31mModuleNotFoundError\u001b[0m: No module named 'utils'"
     ]
    }
   ],
   "source": [
    "import torch\n",
    "import torchvision\n",
    "import torchvision.transforms as transforms\n",
    "import timm\n",
    "from torch.utils.data import DataLoader\n",
    "from torchvision.datasets import ImageNet  # Use ImageNet dataset\n",
    "import torch.nn as nn\n",
    "\n",
    "from utils import *\n",
    "from utils import _ntuple\n",
    "import time\n",
    "\n",
    "accuracy=[]\n",
    "for r in range (8,33,8):\n",
    "    \n",
    "    #apply the patch to the model\n",
    "    device = torch.device(\"cuda\" if torch.cuda.is_available() else \"cpu\")\n",
    "    to_2tuple = _ntuple(2)\n",
    "    # Load the pre-trained model\n",
    "    model = timm.create_model('vit_base_patch16_224', pretrained=True)\n",
    "    \n",
    "    \n",
    "    new_apply_patch(model)\n",
    "    model.r = r\n",
    "    source = model._tome_info[\"source\"]\n",
    "    print(model)\n",
    "    \n",
    "    \n",
    "    # Define transformations for the ImageNet data\n",
    "    # Note: The normalization values are different for ImageNet\n",
    "    transform = transforms.Compose([\n",
    "        transforms.Resize(256),\n",
    "        transforms.CenterCrop(224),\n",
    "        transforms.ToTensor(),\n",
    "        transforms.Normalize(mean=[0.485, 0.456, 0.406], std=[0.229, 0.224, 0.225]),\n",
    "    ])\n",
    "    \n",
    "    # Load ImageNet datahawwhatww\n",
    "    imagenet_data = ImageNet(root='data', split='val', transform=transform)\n",
    "    dataloader = DataLoader(imagenet_data, batch_size=64, shuffle=False)\n",
    "    \n",
    "    model = model.to(device)\n",
    "    model.eval()\n",
    "    \n",
    "    # Evaluate the model\n",
    "    criterion = nn.CrossEntropyLoss()\n",
    "    total_val_loss = 0.0\n",
    "    total_val_correct = 0\n",
    "    \n",
    "    start_time = time.time()  \n",
    "    \n",
    "    with torch.no_grad():\n",
    "        for inputs, labels in dataloader:\n",
    "            # Move inputs and labels to GPU\n",
    "            inputs, labels = inputs.to(device), labels.to(device)\n",
    "            \n",
    "            outputs = model(inputs)\n",
    "            val_loss = criterion(outputs, labels)\n",
    "    \n",
    "            # Calculate validation accuracy\n",
    "            _, predicted = torch.max(outputs, 1)\n",
    "            total_val_correct += (predicted == labels).sum().item()\n",
    "            total_val_loss += val_loss.item()\n",
    "    \n",
    "    end_time = time.time()  # End time\n",
    "    # Calculate average validation loss and accuracy\n",
    "    avg_val_loss = total_val_loss / len(dataloader)\n",
    "    val_accuracy = total_val_correct / len(dataloader.dataset)\n",
    "    \n",
    "    elapsed_time = end_time - start_time\n",
    "    accuracy.append(val_accuracy)\n",
    "    \n",
    "    print(f'Validation Loss: {avg_val_loss:.4f}, Validation Accuracy: {val_accuracy:.4f}, Elapsed Time: {elapsed_time:.2f} seconds')\n",
    "print(accuracy) "
   ]
  },
  {
   "cell_type": "code",
   "execution_count": null,
   "metadata": {},
   "outputs": [],
   "source": []
  }
 ],
 "metadata": {
  "kernelspec": {
   "display_name": "Python 3 (ipykernel)",
   "language": "python",
   "name": "python3"
  },
  "language_info": {
   "codemirror_mode": {
    "name": "ipython",
    "version": 3
   },
   "file_extension": ".py",
   "mimetype": "text/x-python",
   "name": "python",
   "nbconvert_exporter": "python",
   "pygments_lexer": "ipython3",
   "version": "3.11.3"
  }
 },
 "nbformat": 4,
 "nbformat_minor": 2
}
