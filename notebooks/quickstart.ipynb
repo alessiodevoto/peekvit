{
 "cells": [
  {
   "cell_type": "markdown",
   "metadata": {},
   "source": [
    "#### Simple Vision Transformer"
   ]
  },
  {
   "cell_type": "code",
   "execution_count": 4,
   "metadata": {},
   "outputs": [
    {
     "name": "stdout",
     "output_type": "stream",
     "text": [
      "VisionTransformer(\n",
      "  (conv_proj): Conv2d(3, 768, kernel_size=(16, 16), stride=(16, 16))\n",
      "  (encoder): ViTEncoder(\n",
      "    (dropout): Dropout(p=0.1, inplace=False)\n",
      "    (layers): Sequential(\n",
      "      (0): ViTBlock(\n",
      "        (ln_1): LayerNorm((768,), eps=1e-05, elementwise_affine=True)\n",
      "        (self_attention): SelfAttention(\n",
      "          (self_attention): MultiheadAttention(\n",
      "            (out_proj): NonDynamicallyQuantizableLinear(in_features=768, out_features=768, bias=True)\n",
      "          )\n",
      "        )\n",
      "        (dropout): Dropout(p=0.1, inplace=False)\n",
      "        (ln_2): LayerNorm((768,), eps=1e-05, elementwise_affine=True)\n",
      "        (mlp): MLP(\n",
      "          (fc1): Linear(in_features=768, out_features=3072, bias=True)\n",
      "          (fc2): Linear(in_features=3072, out_features=768, bias=True)\n",
      "        )\n",
      "      )\n",
      "      (1): ViTBlock(\n",
      "        (ln_1): LayerNorm((768,), eps=1e-05, elementwise_affine=True)\n",
      "        (self_attention): SelfAttention(\n",
      "          (self_attention): MultiheadAttention(\n",
      "            (out_proj): NonDynamicallyQuantizableLinear(in_features=768, out_features=768, bias=True)\n",
      "          )\n",
      "        )\n",
      "        (dropout): Dropout(p=0.1, inplace=False)\n",
      "        (ln_2): LayerNorm((768,), eps=1e-05, elementwise_affine=True)\n",
      "        (mlp): MLP(\n",
      "          (fc1): Linear(in_features=768, out_features=3072, bias=True)\n",
      "          (fc2): Linear(in_features=3072, out_features=768, bias=True)\n",
      "        )\n",
      "      )\n",
      "      (2): ViTBlock(\n",
      "        (ln_1): LayerNorm((768,), eps=1e-05, elementwise_affine=True)\n",
      "        (self_attention): SelfAttention(\n",
      "          (self_attention): MultiheadAttention(\n",
      "            (out_proj): NonDynamicallyQuantizableLinear(in_features=768, out_features=768, bias=True)\n",
      "          )\n",
      "        )\n",
      "        (dropout): Dropout(p=0.1, inplace=False)\n",
      "        (ln_2): LayerNorm((768,), eps=1e-05, elementwise_affine=True)\n",
      "        (mlp): MLP(\n",
      "          (fc1): Linear(in_features=768, out_features=3072, bias=True)\n",
      "          (fc2): Linear(in_features=3072, out_features=768, bias=True)\n",
      "        )\n",
      "      )\n",
      "      (3): ViTBlock(\n",
      "        (ln_1): LayerNorm((768,), eps=1e-05, elementwise_affine=True)\n",
      "        (self_attention): SelfAttention(\n",
      "          (self_attention): MultiheadAttention(\n",
      "            (out_proj): NonDynamicallyQuantizableLinear(in_features=768, out_features=768, bias=True)\n",
      "          )\n",
      "        )\n",
      "        (dropout): Dropout(p=0.1, inplace=False)\n",
      "        (ln_2): LayerNorm((768,), eps=1e-05, elementwise_affine=True)\n",
      "        (mlp): MLP(\n",
      "          (fc1): Linear(in_features=768, out_features=3072, bias=True)\n",
      "          (fc2): Linear(in_features=3072, out_features=768, bias=True)\n",
      "        )\n",
      "      )\n",
      "    )\n",
      "    (ln): LayerNorm((768,), eps=1e-05, elementwise_affine=True)\n",
      "  )\n",
      "  (head): Linear(in_features=768, out_features=1000, bias=True)\n",
      ")\n"
     ]
    }
   ],
   "source": [
    "import os, sys, torch\n",
    "sys.path.append(os.path.join(os.path.abspath(''), '../../'))\n",
    "\n",
    "from peekvit.models.vit import VisionTransformer\n",
    "\n",
    "vit = VisionTransformer(\n",
    "    image_size=224,\n",
    "    patch_size=16,\n",
    "    num_classes=1000,\n",
    "    hidden_dim=768,\n",
    "    num_layers=4,\n",
    "    num_class_tokens=1,\n",
    "    num_heads=12,\n",
    "    mlp_dim=3072,\n",
    "    dropout=0.1)\n",
    "\n",
    "print(vit) \n"
   ]
  },
  {
   "cell_type": "code",
   "execution_count": 9,
   "metadata": {},
   "outputs": [
    {
     "name": "stdout",
     "output_type": "stream",
     "text": [
      "torch.Size([1, 1000])\n"
     ]
    }
   ],
   "source": [
    "x = torch.randn(1, 3, 224, 224)\n",
    "logits = vit(x)\n",
    "print(logits.shape)"
   ]
  },
  {
   "cell_type": "markdown",
   "metadata": {},
   "source": [
    "#### Pretrained ViT from torch or timm weights \n",
    "\n",
    "Make sure the dimensions of the transformer match with the weights you download"
   ]
  },
  {
   "cell_type": "code",
   "execution_count": 14,
   "metadata": {},
   "outputs": [],
   "source": [
    "from torchvision.models.vision_transformer import ViT_B_16_Weights\n",
    "\n",
    "# see https://github.com/pytorch/vision/blob/806dba678d5b01f6e8a46f7c48fdf8c09369a267/torchvision/models/vision_transformer.py#L351\n",
    "# for timm any pretrained weights are supported\n",
    "\n",
    "vit = VisionTransformer(\n",
    "    image_size=224,\n",
    "    patch_size=16,\n",
    "    num_classes=1000,\n",
    "    hidden_dim=768,\n",
    "    num_layers=12,\n",
    "    num_class_tokens=1,\n",
    "    num_heads=12,\n",
    "    mlp_dim=3072,\n",
    "    dropout=0.1,\n",
    "    #torch_pretrained_weights=str(ViT_B_16_Weights['IMAGENET1K_V1']),\n",
    "    #timm_pretrained_weights=['facebookresearch/deit:main', 'deit_small_patch16_224']\n",
    "    )\n",
    "\n"
   ]
  },
  {
   "cell_type": "markdown",
   "metadata": {},
   "source": [
    "You can also provide local paths to torch or timm pretrained weights."
   ]
  },
  {
   "cell_type": "markdown",
   "metadata": {},
   "source": [
    "#### Load state from checkpoint \n",
    "\n",
    "During training checkpoints are saved automatically, you can load them like so:"
   ]
  },
  {
   "cell_type": "code",
   "execution_count": 6,
   "metadata": {},
   "outputs": [
    {
     "name": "stdout",
     "output_type": "stream",
     "text": [
      "Creating model based on saved state\n",
      "VisionTransformer\n",
      "{'_target_': 'peekvit.models.vit.VisionTransformer', 'image_size': 160, 'patch_size': 8, 'num_classes': 10, 'hidden_dim': 256, 'mlp_dim': 768, 'num_layers': 4, 'num_heads': 4}\n"
     ]
    }
   ],
   "source": [
    "from peekvit.utils.utils import load_state\n",
    "\n",
    "model, optimizer, epoch, model_args, noise_args = load_state(path='../runs/2024-01-24-10-30-25/checkpoints/epoch_000.pth', model=None)"
   ]
  },
  {
   "cell_type": "code",
   "execution_count": 7,
   "metadata": {},
   "outputs": [
    {
     "data": {
      "text/plain": [
       "{'image_size': 160,\n",
       " 'patch_size': 8,\n",
       " 'num_classes': 10,\n",
       " 'hidden_dim': 256,\n",
       " 'mlp_dim': 768,\n",
       " 'num_layers': 4,\n",
       " 'num_heads': 4}"
      ]
     },
     "execution_count": 7,
     "metadata": {},
     "output_type": "execute_result"
    }
   ],
   "source": [
    "model_args"
   ]
  },
  {
   "cell_type": "markdown",
   "metadata": {},
   "source": [
    "#### Load pretrained Vit params into other Vit \n",
    "\n",
    "You can also initialize a vit with a different architecture from pre-trained weights, as long as dimensions match. If the model has different head dim or additional paramters, they will be randomly initalized."
   ]
  },
  {
   "cell_type": "code",
   "execution_count": 10,
   "metadata": {},
   "outputs": [
    {
     "data": {
      "text/plain": [
       "RankVisionTransformer(\n",
       "  (conv_proj): Conv2d(3, 256, kernel_size=(8, 8), stride=(8, 8))\n",
       "  (encoder): ViTEncoder(\n",
       "    (dropout): Dropout(p=0.0, inplace=False)\n",
       "    (layers): Sequential(\n",
       "      (0): RankViTBlock(\n",
       "        (ln_1): LayerNorm((256,), eps=1e-05, elementwise_affine=True)\n",
       "        (self_attention): SelfAttention(\n",
       "          (self_attention): MultiheadAttention(\n",
       "            (out_proj): NonDynamicallyQuantizableLinear(in_features=256, out_features=256, bias=True)\n",
       "          )\n",
       "        )\n",
       "        (dropout): Dropout(p=0.0, inplace=False)\n",
       "        (ln_2): LayerNorm((256,), eps=1e-05, elementwise_affine=True)\n",
       "        (mlp): MLP(\n",
       "          (fc1): Linear(in_features=256, out_features=768, bias=True)\n",
       "          (fc2): Linear(in_features=768, out_features=256, bias=True)\n",
       "        )\n",
       "      )\n",
       "      (1): RankViTBlock(\n",
       "        (ln_1): LayerNorm((256,), eps=1e-05, elementwise_affine=True)\n",
       "        (self_attention): SelfAttention(\n",
       "          (self_attention): MultiheadAttention(\n",
       "            (out_proj): NonDynamicallyQuantizableLinear(in_features=256, out_features=256, bias=True)\n",
       "          )\n",
       "        )\n",
       "        (dropout): Dropout(p=0.0, inplace=False)\n",
       "        (ln_2): LayerNorm((256,), eps=1e-05, elementwise_affine=True)\n",
       "        (mlp): MLP(\n",
       "          (fc1): Linear(in_features=256, out_features=768, bias=True)\n",
       "          (fc2): Linear(in_features=768, out_features=256, bias=True)\n",
       "        )\n",
       "      )\n",
       "      (2): RankViTBlock(\n",
       "        (ln_1): LayerNorm((256,), eps=1e-05, elementwise_affine=True)\n",
       "        (self_attention): SelfAttention(\n",
       "          (self_attention): MultiheadAttention(\n",
       "            (out_proj): NonDynamicallyQuantizableLinear(in_features=256, out_features=256, bias=True)\n",
       "          )\n",
       "        )\n",
       "        (dropout): Dropout(p=0.0, inplace=False)\n",
       "        (ln_2): LayerNorm((256,), eps=1e-05, elementwise_affine=True)\n",
       "        (mlp): MLP(\n",
       "          (fc1): Linear(in_features=256, out_features=768, bias=True)\n",
       "          (fc2): Linear(in_features=768, out_features=256, bias=True)\n",
       "        )\n",
       "      )\n",
       "      (3): RankViTBlock(\n",
       "        (ln_1): LayerNorm((256,), eps=1e-05, elementwise_affine=True)\n",
       "        (self_attention): SelfAttention(\n",
       "          (self_attention): MultiheadAttention(\n",
       "            (out_proj): NonDynamicallyQuantizableLinear(in_features=256, out_features=256, bias=True)\n",
       "          )\n",
       "        )\n",
       "        (dropout): Dropout(p=0.0, inplace=False)\n",
       "        (ln_2): LayerNorm((256,), eps=1e-05, elementwise_affine=True)\n",
       "        (mlp): MLP(\n",
       "          (fc1): Linear(in_features=256, out_features=768, bias=True)\n",
       "          (fc2): Linear(in_features=768, out_features=256, bias=True)\n",
       "        )\n",
       "      )\n",
       "    )\n",
       "    (ln): LayerNorm((256,), eps=1e-05, elementwise_affine=True)\n",
       "  )\n",
       "  (head): Linear(in_features=256, out_features=10, bias=True)\n",
       ")"
      ]
     },
     "execution_count": 10,
     "metadata": {},
     "output_type": "execute_result"
    }
   ],
   "source": [
    "from peekvit.models.rankvit import RankVisionTransformer\n",
    "\n",
    "rankvit = RankVisionTransformer(\n",
    "    image_size = 160, \n",
    "    patch_size  = 8, \n",
    "    num_classes  = 10, \n",
    "    hidden_dim = 256, \n",
    "    mlp_dim = 768, \n",
    "    num_layers = 4, \n",
    "    num_heads = 4\n",
    "    )\n",
    "\n",
    "rankvit, model_args, *_ = load_state(path='../runs/2024-01-24-10-30-25/checkpoints/epoch_100.pth', model=rankvit)\n",
    "rankvit"
   ]
  }
 ],
 "metadata": {
  "kernelspec": {
   "display_name": "peekvit",
   "language": "python",
   "name": "python3"
  },
  "language_info": {
   "codemirror_mode": {
    "name": "ipython",
    "version": 3
   },
   "file_extension": ".py",
   "mimetype": "text/x-python",
   "name": "python",
   "nbconvert_exporter": "python",
   "pygments_lexer": "ipython3",
   "version": "3.9.18"
  }
 },
 "nbformat": 4,
 "nbformat_minor": 2
}
